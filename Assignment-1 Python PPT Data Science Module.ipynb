{
 "cells": [
  {
   "cell_type": "code",
   "execution_count": 3,
   "id": "4f0a1d97-2fec-4662-b4c4-4b208df38831",
   "metadata": {},
   "outputs": [
    {
     "name": "stdin",
     "output_type": "stream",
     "text": [
      "Enter a string:  Prakash\n"
     ]
    },
    {
     "name": "stdout",
     "output_type": "stream",
     "text": [
      "Reversed string: hsakarP\n"
     ]
    }
   ],
   "source": [
    "#1. Write a Python program to reverse a string without using any built-in string reversal functions.\n",
    "# ANS-\n",
    "def reverse_string(input_string):\n",
    "    reversed_string = \"\"\n",
    "    for i in range(len(input_string)-1, -1, -1):\n",
    "        reversed_string += input_string[i]\n",
    "    return reversed_string\n",
    "\n",
    "input_string = input(\"Enter a string: \")\n",
    "reversed_string = reverse_string(input_string)\n",
    "print(\"Reversed string:\", reversed_string)\n"
   ]
  },
  {
   "cell_type": "code",
   "execution_count": 8,
   "id": "67b449c0-4aa7-4451-9162-7ff49cadd663",
   "metadata": {},
   "outputs": [
    {
     "name": "stdin",
     "output_type": "stream",
     "text": [
      "Enter a string:  prakash\n"
     ]
    },
    {
     "name": "stdout",
     "output_type": "stream",
     "text": [
      "The string is not a palindrome.\n"
     ]
    }
   ],
   "source": [
    "#2. Implement a function to check if a given string is a palindrome.\n",
    "#ANS-\n",
    "\n",
    "def is_palindrome(input_string):\n",
    "    # Remove whitespace and convert to lowercase\n",
    "    input_string = input_string.replace(\" \", \"\").lower()\n",
    "    \n",
    "    # Compare the string with its reverse\n",
    "    reversed_string = input_string[::-1]\n",
    "    \n",
    "    return input_string == reversed_string\n",
    "\n",
    "input_string = input(\"Enter a string: \")\n",
    "if is_palindrome(input_string):\n",
    "    print(\"The string is a palindrome.\")\n",
    "else:\n",
    "    print(\"The string is not a palindrome.\")\n"
   ]
  },
  {
   "cell_type": "code",
   "execution_count": 10,
   "id": "92e9644f-c8b1-4f0e-b08d-db32abb9f729",
   "metadata": {},
   "outputs": [
    {
     "name": "stdin",
     "output_type": "stream",
     "text": [
      "Enter a list of numbers (separated by spaces):  1 2 3 4 5 6 7 8 9 10\n"
     ]
    },
    {
     "name": "stdout",
     "output_type": "stream",
     "text": [
      "The largest element is: 10\n"
     ]
    }
   ],
   "source": [
    "# 3. Write a program to find the largest element in a given list.\n",
    "# ANS-\n",
    "def find_largest_element(lst):\n",
    "    if len(lst) == 0:\n",
    "        return None\n",
    "\n",
    "    largest = lst[0]\n",
    "    for num in lst:\n",
    "        if num > largest:\n",
    "            largest = num\n",
    "\n",
    "    return largest\n",
    "\n",
    "input_list = input(\"Enter a list of numbers (separated by spaces): \").split()\n",
    "input_list = [int(num) for num in input_list]  # Convert input to integers\n",
    "largest_element = find_largest_element(input_list)\n",
    "print(\"The largest element is:\", largest_element)\n"
   ]
  },
  {
   "cell_type": "code",
   "execution_count": 11,
   "id": "47fc2e2c-1b8e-42e2-b50d-fadcb46c3376",
   "metadata": {},
   "outputs": [
    {
     "name": "stdin",
     "output_type": "stream",
     "text": [
      "Enter a list of elements (separated by spaces):  2 2 3 4 5 5 7 7 8 8 \n"
     ]
    },
    {
     "name": "stdout",
     "output_type": "stream",
     "text": [
      "2: 2 occurrence(s)\n",
      "3: 1 occurrence(s)\n",
      "4: 1 occurrence(s)\n",
      "5: 2 occurrence(s)\n",
      "7: 2 occurrence(s)\n",
      "8: 2 occurrence(s)\n"
     ]
    }
   ],
   "source": [
    "# 4. Implement a function to count the occurrence of each element in a list.\n",
    "# Ans-\n",
    "def count_occurrences(lst):\n",
    "    occurrence_count = {}\n",
    "\n",
    "    for item in lst:\n",
    "        if item in occurrence_count:\n",
    "            occurrence_count[item] += 1\n",
    "        else:\n",
    "            occurrence_count[item] = 1\n",
    "\n",
    "    return occurrence_count\n",
    "\n",
    "# Example usage\n",
    "input_list = input(\"Enter a list of elements (separated by spaces): \").split()\n",
    "occurrence_count = count_occurrences(input_list)\n",
    "\n",
    "for item, count in occurrence_count.items():\n",
    "    print(f\"{item}: {count} occurrence(s)\")\n"
   ]
  },
  {
   "cell_type": "code",
   "execution_count": 12,
   "id": "5a171775-7f2c-4d2f-9563-7d7431ddc06d",
   "metadata": {},
   "outputs": [
    {
     "name": "stdin",
     "output_type": "stream",
     "text": [
      "Enter a list of numbers (separated by spaces):  1 2 3 4 5 6 7 8 9\n"
     ]
    },
    {
     "name": "stdout",
     "output_type": "stream",
     "text": [
      "The second largest element is: 8\n"
     ]
    }
   ],
   "source": [
    "#5. Write a Python program to find the second largest number in a list.\n",
    "#ANS-\n",
    "def find_second_largest(lst):\n",
    "    if len(lst) < 2:\n",
    "        return None\n",
    "\n",
    "    largest = float('-inf')\n",
    "    second_largest = float('-inf')\n",
    "\n",
    "    for num in lst:\n",
    "        if num > largest:\n",
    "            second_largest = largest\n",
    "            largest = num\n",
    "        elif num > second_largest and num != largest:\n",
    "            second_largest = num\n",
    "\n",
    "    if second_largest == float('-inf'):\n",
    "        return None\n",
    "    else:\n",
    "        return second_largest\n",
    "\n",
    "input_list = input(\"Enter a list of numbers (separated by spaces): \").split()\n",
    "input_list = [int(num) for num in input_list]  # Convert input to integers\n",
    "\n",
    "second_largest = find_second_largest(input_list)\n",
    "\n",
    "if second_largest is None:\n",
    "    print(\"There is no second largest element.\")\n",
    "else:\n",
    "    print(\"The second largest element is:\", second_largest)\n"
   ]
  },
  {
   "cell_type": "code",
   "execution_count": 13,
   "id": "4ebdcd31-bc3f-44f1-8de9-3ed2257628ca",
   "metadata": {},
   "outputs": [
    {
     "name": "stdin",
     "output_type": "stream",
     "text": [
      "Enter a list of elements (separated by spaces):  1 2 3 4 5 5 6 7 7 8\n"
     ]
    },
    {
     "name": "stdout",
     "output_type": "stream",
     "text": [
      "List with duplicates removed: ['1', '4', '2', '6', '8', '5', '7', '3']\n"
     ]
    }
   ],
   "source": [
    "#6. Implement a function to remove duplicate elements from a list.\n",
    "#ANS-\n",
    "def remove_duplicates(lst):\n",
    "    return list(set(lst))\n",
    "\n",
    "input_list = input(\"Enter a list of elements (separated by spaces): \").split()\n",
    "unique_list = remove_duplicates(input_list)\n",
    "print(\"List with duplicates removed:\", unique_list)\n"
   ]
  },
  {
   "cell_type": "code",
   "execution_count": 15,
   "id": "9f50e51b-01a8-407a-816d-26824a5b5494",
   "metadata": {},
   "outputs": [
    {
     "name": "stdin",
     "output_type": "stream",
     "text": [
      "Enter a number:  9\n"
     ]
    },
    {
     "name": "stdout",
     "output_type": "stream",
     "text": [
      "Factorial of 9 is: 362880\n"
     ]
    }
   ],
   "source": [
    "# 7. Write a program to calculate the factorial of a given number.\n",
    "# ANS-\n",
    "def calculate_factorial(number):\n",
    "    factorial = 1\n",
    "    for i in range(1, number + 1):\n",
    "        factorial *= i\n",
    "    return factorial\n",
    "\n",
    "input_number = int(input(\"Enter a number: \"))\n",
    "factorial = calculate_factorial(input_number)\n",
    "print(\"Factorial of\", input_number, \"is:\", factorial)\n"
   ]
  },
  {
   "cell_type": "code",
   "execution_count": 20,
   "id": "880e67e4-a27b-4d16-b475-542663c3170f",
   "metadata": {},
   "outputs": [
    {
     "name": "stdin",
     "output_type": "stream",
     "text": [
      "Enter a number:  7\n"
     ]
    },
    {
     "name": "stdout",
     "output_type": "stream",
     "text": [
      "7 is a prime number.\n"
     ]
    }
   ],
   "source": [
    "# 8. Implement a function to check if a given number is prime.\n",
    "# ANS-\n",
    "def is_prime(number):\n",
    "    if number <= 1:\n",
    "        return False\n",
    "\n",
    "    for i in range(2, int(number**0.5) + 1):\n",
    "        if number % i == 0:\n",
    "            return False\n",
    "\n",
    "    return True\n",
    "\n",
    "input_number = int(input(\"Enter a number: \"))\n",
    "if is_prime(input_number):\n",
    "    print(input_number, \"is a prime number.\")\n",
    "else:\n",
    "    print(input_number, \"is not a prime number.\")\n"
   ]
  },
  {
   "cell_type": "code",
   "execution_count": 21,
   "id": "f046a403-a3ab-4984-8ec2-4d4a4fc5bcaf",
   "metadata": {},
   "outputs": [
    {
     "name": "stdin",
     "output_type": "stream",
     "text": [
      "Enter a list of integers (separated by spaces):  23 45 45 86 66 45 \n"
     ]
    },
    {
     "name": "stdout",
     "output_type": "stream",
     "text": [
      "Sorted list in ascending order: [23, 45, 45, 45, 66, 86]\n"
     ]
    }
   ],
   "source": [
    "# 9. Write a Python program to sort a list of integers in ascending order.\n",
    "# ANS-\n",
    "def sort_list_ascending(lst):\n",
    "    sorted_lst = lst[:]  # Create a copy of the list to avoid modifying the original list\n",
    "    sorted_lst.sort()\n",
    "    return sorted_lst\n",
    "\n",
    "input_list = input(\"Enter a list of integers (separated by spaces): \").split()\n",
    "input_list = [int(num) for num in input_list]  # Convert input to integers\n",
    "\n",
    "sorted_list = sort_list_ascending(input_list)\n",
    "print(\"Sorted list in ascending order:\", sorted_list)\n"
   ]
  },
  {
   "cell_type": "code",
   "execution_count": 22,
   "id": "05c86d35-8155-4419-b794-a5da4a946d0f",
   "metadata": {},
   "outputs": [
    {
     "name": "stdin",
     "output_type": "stream",
     "text": [
      "Enter a list of numbers (separated by spaces):  2 3 5 5 67 7 8\n"
     ]
    },
    {
     "name": "stdout",
     "output_type": "stream",
     "text": [
      "Sum of all numbers: 97\n"
     ]
    }
   ],
   "source": [
    "# 10. Implement a function to find the sum of all numbers in a list.\n",
    "# ANS-\n",
    "def calculate_sum(lst):\n",
    "    total_sum = 0\n",
    "    for num in lst:\n",
    "        total_sum += num\n",
    "    return total_sum\n",
    "\n",
    "# Example usage\n",
    "input_list = input(\"Enter a list of numbers (separated by spaces): \").split()\n",
    "input_list = [int(num) for num in input_list]  # Convert input to integers\n",
    "\n",
    "sum_of_numbers = calculate_sum(input_list)\n",
    "print(\"Sum of all numbers:\", sum_of_numbers)\n"
   ]
  },
  {
   "cell_type": "code",
   "execution_count": 1,
   "id": "b0fddd85-c999-42a3-ae9c-5687da8ad5d4",
   "metadata": {},
   "outputs": [
    {
     "name": "stdout",
     "output_type": "stream",
     "text": [
      "Common elements: [4, 5]\n"
     ]
    }
   ],
   "source": [
    "# 11. Write a program to find the common elements between two lists.\n",
    "# Ans-\n",
    "def find_common_elements(list1, list2):\n",
    "    common_elements = []\n",
    "    for element in list1:\n",
    "        if element in list2 and element not in common_elements:\n",
    "            common_elements.append(element)\n",
    "    return common_elements\n",
    "\n",
    "list1 = [1, 2, 3, 4, 5]\n",
    "list2 = [4, 5, 6, 7, 8]\n",
    "result = find_common_elements(list1, list2)\n",
    "print(\"Common elements:\", result)\n"
   ]
  },
  {
   "cell_type": "code",
   "execution_count": 2,
   "id": "c1b3e8cf-f244-4d3d-8801-e64d2ad2e4b4",
   "metadata": {},
   "outputs": [
    {
     "name": "stdout",
     "output_type": "stream",
     "text": [
      "Are the strings anagrams? True\n"
     ]
    }
   ],
   "source": [
    "# 12. Implement a function to check if a given string is an anagram of another string.\n",
    "# ANS-\n",
    "def is_anagram(str1, str2):\n",
    "    # Remove whitespaces and convert to lowercase\n",
    "    str1 = str1.replace(\" \", \"\").lower()\n",
    "    str2 = str2.replace(\" \", \"\").lower()\n",
    "\n",
    "    # Check if lengths are equal\n",
    "    if len(str1) != len(str2):\n",
    "        return False\n",
    "\n",
    "    sorted_str1 = sorted(str1)\n",
    "    sorted_str2 = sorted(str2)\n",
    "\n",
    "    # Compare the sorted strings\n",
    "    if sorted_str1 == sorted_str2:\n",
    "        return True\n",
    "    else:\n",
    "        return False\n",
    "\n",
    "string1 = \"listen\"\n",
    "string2 = \"silent\"\n",
    "result = is_anagram(string1, string2)\n",
    "print(\"Are the strings anagrams?\", result)\n"
   ]
  },
  {
   "cell_type": "code",
   "execution_count": 3,
   "id": "ee3dd658-1cc0-43f3-8472-c928cef83bb3",
   "metadata": {},
   "outputs": [
    {
     "name": "stdout",
     "output_type": "stream",
     "text": [
      "Permutations of abc are: ['abc', 'acb', 'bac', 'bca', 'cab', 'cba']\n"
     ]
    }
   ],
   "source": [
    "# 13. Write a Python program to generate all permutations of a given string.\n",
    "# ANS-\n",
    "def generate_permutations(string):\n",
    "    # Base case: If the string has only one character, return it as a single-element list\n",
    "    if len(string) == 1:\n",
    "        return [string]\n",
    "\n",
    "    # Recursive case: Generate permutations by fixing one character and permuting the rest\n",
    "    permutations = []  # List to store the permutations\n",
    "\n",
    "    for i in range(len(string)):\n",
    "        char = string[i]\n",
    "        remaining_chars = string[:i] + string[i+1:]\n",
    "\n",
    "        # Recursively generate permutations of the remaining characters\n",
    "        sub_permutations = generate_permutations(remaining_chars)\n",
    "\n",
    "        # Add the current character to each permutation of the remaining characters\n",
    "        for sub_permutation in sub_permutations:\n",
    "            permutations.append(char + sub_permutation)\n",
    "\n",
    "    return permutations\n",
    "\n",
    "string = \"abc\"\n",
    "permutations = generate_permutations(string)\n",
    "print(\"Permutations of\", string, \"are:\", permutations)\n"
   ]
  },
  {
   "cell_type": "code",
   "execution_count": 4,
   "id": "d5b5b0b5-6317-4c3c-9fc1-d9960e879f01",
   "metadata": {},
   "outputs": [
    {
     "name": "stdout",
     "output_type": "stream",
     "text": [
      "Fibonacci sequence up to 10 terms: [0, 1, 1, 2, 3, 5, 8, 13, 21, 34]\n"
     ]
    }
   ],
   "source": [
    "# 14. Implement a function to calculate the Fibonacci sequence up to a given number of terms.\n",
    "# ANS-\n",
    "def fibonacci_sequence(n):\n",
    "    sequence = []\n",
    "\n",
    "    # Base cases: First two terms of Fibonacci sequence\n",
    "    if n >= 1:\n",
    "        sequence.append(0)\n",
    "    if n >= 2:\n",
    "        sequence.append(1)\n",
    "\n",
    "    # Calculate subsequent terms of Fibonacci sequence\n",
    "    for i in range(2, n):\n",
    "        term = sequence[i-1] + sequence[i-2]\n",
    "        sequence.append(term)\n",
    "\n",
    "    return sequence\n",
    "\n",
    "num_terms = 10\n",
    "fibonacci = fibonacci_sequence(num_terms)\n",
    "print(\"Fibonacci sequence up to\", num_terms, \"terms:\", fibonacci)\n"
   ]
  },
  {
   "cell_type": "code",
   "execution_count": 5,
   "id": "90f7e2ab-6b95-4c7e-b975-192fccae13ed",
   "metadata": {},
   "outputs": [
    {
     "name": "stdout",
     "output_type": "stream",
     "text": [
      "Median: 5\n"
     ]
    }
   ],
   "source": [
    "# 15. Write a program to find the median of a list of numbers.\n",
    "# ANS-\n",
    "def find_median(numbers):\n",
    "    sorted_numbers = sorted(numbers)\n",
    "    length = len(sorted_numbers)\n",
    "\n",
    "    if length % 2 == 0:\n",
    "        # List has an even number of elements\n",
    "        mid1 = length // 2\n",
    "        mid2 = mid1 - 1\n",
    "        median = (sorted_numbers[mid1] + sorted_numbers[mid2]) / 2\n",
    "    else:\n",
    "        # List has an odd number of elements\n",
    "        mid = length // 2\n",
    "        median = sorted_numbers[mid]\n",
    "\n",
    "    return median\n",
    "\n",
    "number_list = [9, 4, 6, 2, 7, 1, 5]\n",
    "median_value = find_median(number_list)\n",
    "print(\"Median:\", median_value)\n"
   ]
  },
  {
   "cell_type": "code",
   "execution_count": 6,
   "id": "e0f62d49-e27d-402d-8eed-13c18a657fba",
   "metadata": {},
   "outputs": [
    {
     "name": "stdout",
     "output_type": "stream",
     "text": [
      "Is number_list1 sorted? True\n",
      "Is number_list2 sorted? False\n"
     ]
    }
   ],
   "source": [
    "# 16. Implement a function to check if a given list is sorted in non-decreasing order\n",
    "# Ans-\n",
    "def is_sorted(numbers):\n",
    "    for i in range(len(numbers) - 1):\n",
    "        if numbers[i] > numbers[i + 1]:\n",
    "            return False\n",
    "    return True\n",
    "\n",
    "number_list1 = [1, 2, 3, 4, 5]\n",
    "number_list2 = [7, 3, 5, 9, 2]\n",
    "print(\"Is number_list1 sorted?\", is_sorted(number_list1))\n",
    "print(\"Is number_list2 sorted?\", is_sorted(number_list2))\n"
   ]
  },
  {
   "cell_type": "code",
   "execution_count": 7,
   "id": "2051499d-bfe0-4a06-a9bd-3e4ff8e69a67",
   "metadata": {},
   "outputs": [
    {
     "name": "stdout",
     "output_type": "stream",
     "text": [
      "Intersection: [4, 5]\n"
     ]
    }
   ],
   "source": [
    "# 17. Write a Python program to find the intersection of two lists.\n",
    "# Ans-\n",
    "def find_intersection(list1, list2):\n",
    "    intersection = []\n",
    "    for element in list1:\n",
    "        if element in list2 and element not in intersection:\n",
    "            intersection.append(element)\n",
    "    return intersection\n",
    "\n",
    "list1 = [1, 2, 3, 4, 5]\n",
    "list2 = [4, 5, 6, 7, 8]\n",
    "result = find_intersection(list1, list2)\n",
    "print(\"Intersection:\", result)\n"
   ]
  },
  {
   "cell_type": "code",
   "execution_count": 8,
   "id": "84567b21-43d9-4c8d-a09d-6c31241830b6",
   "metadata": {},
   "outputs": [
    {
     "name": "stdout",
     "output_type": "stream",
     "text": [
      "Maximum subarray sum: 6\n"
     ]
    }
   ],
   "source": [
    "# 18. Implement a function to find the maximum subarray sum in a given list.\n",
    "# Ans-\n",
    "def max_subarray_sum(numbers):\n",
    "    max_sum = float('-inf')  # Initialize with negative infinity\n",
    "    current_sum = 0\n",
    "\n",
    "    for num in numbers:\n",
    "        current_sum += num\n",
    "\n",
    "        if current_sum > max_sum:\n",
    "            max_sum = current_sum\n",
    "\n",
    "        if current_sum < 0:\n",
    "            current_sum = 0\n",
    "\n",
    "    return max_sum\n",
    "\n",
    "number_list = [-2, 1, -3, 4, -1, 2, 1, -5, 4]\n",
    "result = max_subarray_sum(number_list)\n",
    "print(\"Maximum subarray sum:\", result)\n"
   ]
  },
  {
   "cell_type": "code",
   "execution_count": 9,
   "id": "2a84aa2a-5ab4-4d07-bd65-f74d092a421a",
   "metadata": {},
   "outputs": [
    {
     "name": "stdout",
     "output_type": "stream",
     "text": [
      "String without vowels: Hll, Wrld!\n"
     ]
    }
   ],
   "source": [
    "# 19. Write a program to remove all vowels from a given string.\n",
    "# Ans-\n",
    "def remove_vowels(string):\n",
    "    vowels = \"aeiouAEIOU\"\n",
    "    string_without_vowels = \"\"\n",
    "\n",
    "    for char in string:\n",
    "        if char not in vowels:\n",
    "            string_without_vowels += char\n",
    "\n",
    "    return string_without_vowels\n",
    "\n",
    "input_string = \"Hello, World!\"\n",
    "result = remove_vowels(input_string)\n",
    "print(\"String without vowels:\", result)\n"
   ]
  },
  {
   "cell_type": "code",
   "execution_count": 10,
   "id": "dc81a7fd-c105-4111-8ad0-67834a7ce6b5",
   "metadata": {},
   "outputs": [
    {
     "name": "stdout",
     "output_type": "stream",
     "text": [
      "Reversed sentence: you? are how Hello,\n"
     ]
    }
   ],
   "source": [
    "# 20. Implement a function to reverse the order of words in a given sentence.\n",
    "# Ans-\n",
    "def reverse_words(sentence):\n",
    "    words = sentence.split()\n",
    "    reversed_words = words[::-1]\n",
    "    reversed_sentence = \" \".join(reversed_words)\n",
    "    return reversed_sentence\n",
    "\n",
    "input_sentence = \"Hello, how are you?\"\n",
    "result = reverse_words(input_sentence)\n",
    "print(\"Reversed sentence:\", result)\n"
   ]
  },
  {
   "cell_type": "code",
   "execution_count": 11,
   "id": "765068c4-70ce-461a-8a47-a5aea5ae92d1",
   "metadata": {},
   "outputs": [
    {
     "name": "stdout",
     "output_type": "stream",
     "text": [
      "Are the strings anagrams? True\n"
     ]
    }
   ],
   "source": [
    "# 21. Write a Python program to check if two strings are anagrams of each other.\n",
    "# Ans-\n",
    "def are_anagrams(str1, str2):\n",
    "    # Remove whitespaces and convert to lowercase\n",
    "    str1 = str1.replace(\" \", \"\").lower()\n",
    "    str2 = str2.replace(\" \", \"\").lower()\n",
    "\n",
    "    # Check if lengths are equal\n",
    "    if len(str1) != len(str2):\n",
    "        return False\n",
    "\n",
    "    # Convert strings to lists for comparison\n",
    "    str1_list = list(str1)\n",
    "    str2_list = list(str2)\n",
    "\n",
    "    # Sort the character lists\n",
    "    str1_list.sort()\n",
    "    str2_list.sort()\n",
    "\n",
    "    # Compare the sorted lists\n",
    "    if str1_list == str2_list:\n",
    "        return True\n",
    "    else:\n",
    "        return False\n",
    "\n",
    "string1 = \"listen\"\n",
    "string2 = \"silent\"\n",
    "result = are_anagrams(string1, string2)\n",
    "print(\"Are the strings anagrams?\", result)\n"
   ]
  },
  {
   "cell_type": "code",
   "execution_count": 13,
   "id": "6634b234-efe2-4cd4-bf86-0cb469939ffe",
   "metadata": {},
   "outputs": [
    {
     "name": "stdout",
     "output_type": "stream",
     "text": [
      "First non-repeating character: h\n"
     ]
    }
   ],
   "source": [
    "# 22. Implement a function to find the first non-repeating character in a string.\n",
    "# Ans-\n",
    "def find_first_non_repeating_char(string):\n",
    "    char_count = {}\n",
    "    \n",
    "    # Count the occurrences of each character\n",
    "    for char in string:\n",
    "        if char in char_count:\n",
    "            char_count[char] += 1\n",
    "        else:\n",
    "            char_count[char] = 1\n",
    "    \n",
    "    # Find the first non-repeating character\n",
    "    for char in string:\n",
    "        if char_count[char] == 1:\n",
    "            return char\n",
    "    \n",
    "    return None\n",
    "\n",
    "input_string = \"hello\"\n",
    "result = find_first_non_repeating_char(input_string)\n",
    "if result:\n",
    "    print(\"First non-repeating character:\", result)\n",
    "else:\n",
    "    print(\"No non-repeating character found.\")\n",
    "\n"
   ]
  },
  {
   "cell_type": "code",
   "execution_count": 14,
   "id": "26d9c0d9-e348-4ad3-9e51-cbcaaa3c4fdc",
   "metadata": {},
   "outputs": [
    {
     "name": "stdout",
     "output_type": "stream",
     "text": [
      "Prime factors of 84 are: [2, 2, 3, 7]\n"
     ]
    }
   ],
   "source": [
    "# 23. Write a program to find the prime factors of a given number.\n",
    "# Ans-\n",
    "def find_prime_factors(number):\n",
    "    prime_factors = []\n",
    "    divisor = 2\n",
    "\n",
    "    while divisor <= number:\n",
    "        if number % divisor == 0:\n",
    "            prime_factors.append(divisor)\n",
    "            number //= divisor\n",
    "        else:\n",
    "            divisor += 1\n",
    "\n",
    "    return prime_factors\n",
    "\n",
    "num = 84\n",
    "prime_factors = find_prime_factors(num)\n",
    "print(\"Prime factors of\", num, \"are:\", prime_factors)\n"
   ]
  },
  {
   "cell_type": "code",
   "execution_count": 15,
   "id": "ab2e4f7c-b963-4a38-b047-1e8976bdf4a0",
   "metadata": {},
   "outputs": [
    {
     "name": "stdout",
     "output_type": "stream",
     "text": [
      "16 is a power of two: True\n"
     ]
    }
   ],
   "source": [
    "# 24. Implement a function to check if a given number is a power of two\n",
    "# Ans-\n",
    "\n",
    "\n",
    "def is_power_of_two(number):\n",
    "    if number <= 0:\n",
    "        return False\n",
    "    return (number & (number - 1)) == 0\n",
    "\n",
    "num = 16\n",
    "result = is_power_of_two(num)\n",
    "print(num, \"is a power of two:\", result)\n"
   ]
  },
  {
   "cell_type": "code",
   "execution_count": 16,
   "id": "e843d968-6f88-4de7-b447-d3af5548dc8d",
   "metadata": {},
   "outputs": [
    {
     "name": "stdout",
     "output_type": "stream",
     "text": [
      "Merged and sorted list: [1, 2, 3, 4, 5, 6, 7, 8]\n"
     ]
    }
   ],
   "source": [
    "# 25. Write a Python program to merge two sorted lists into a single sorted list.\n",
    "# Ans-\n",
    "def merge_sorted_lists(list1, list2):\n",
    "    merged_list = []\n",
    "    i = 0  # Index for list1\n",
    "    j = 0  # Index for list2\n",
    "\n",
    "    # Merge the two lists until one of them is exhausted\n",
    "    while i < len(list1) and j < len(list2):\n",
    "        if list1[i] <= list2[j]:\n",
    "            merged_list.append(list1[i])\n",
    "            i += 1\n",
    "        else:\n",
    "            merged_list.append(list2[j])\n",
    "            j += 1\n",
    "\n",
    "    # Append the remaining elements from list1, if any\n",
    "    while i < len(list1):\n",
    "        merged_list.append(list1[i])\n",
    "        i += 1\n",
    "\n",
    "    # Append the remaining elements from list2, if any\n",
    "    while j < len(list2):\n",
    "        merged_list.append(list2[j])\n",
    "        j += 1\n",
    "\n",
    "    return merged_list\n",
    "\n",
    "list1 = [1, 3, 5, 7]\n",
    "list2 = [2, 4, 6, 8]\n",
    "merged = merge_sorted_lists(list1, list2)\n",
    "print(\"Merged and sorted list:\", merged)\n"
   ]
  },
  {
   "cell_type": "code",
   "execution_count": 17,
   "id": "06ccdb7d-a5f2-4607-87ba-4a8ff7ceb1e9",
   "metadata": {},
   "outputs": [
    {
     "name": "stdout",
     "output_type": "stream",
     "text": [
      "Mode(s): [4]\n"
     ]
    }
   ],
   "source": [
    "# 26.Implement a function to find the mode of a list of numbers.\n",
    "# Ans-\n",
    "def find_mode(numbers):\n",
    "    frequency = {}  # Dictionary to store the frequency of each number\n",
    "\n",
    "    # Calculate the frequency of each number\n",
    "    for num in numbers:\n",
    "        if num in frequency:\n",
    "            frequency[num] += 1\n",
    "        else:\n",
    "            frequency[num] = 1\n",
    "\n",
    "    max_frequency = max(frequency.values())  # Maximum frequency\n",
    "    mode = [num for num, freq in frequency.items() if freq == max_frequency]  # Numbers with maximum frequency\n",
    "\n",
    "    return mode\n",
    "\n",
    "number_list = [1, 2, 3, 4, 2, 3, 4, 4, 5]\n",
    "mode_values = find_mode(number_list)\n",
    "print(\"Mode(s):\", mode_values)\n"
   ]
  },
  {
   "cell_type": "code",
   "execution_count": 18,
   "id": "4ae8839b-7fb7-4457-9936-adb5ec7f841b",
   "metadata": {},
   "outputs": [
    {
     "name": "stdout",
     "output_type": "stream",
     "text": [
      "GCD of 48 and 36 is: 12\n"
     ]
    }
   ],
   "source": [
    "# 27. Write a program to find the greatest common divisor (GCD) of two numbers.\n",
    "# Ans-\n",
    "def gcd(a, b):\n",
    "    while b != 0:\n",
    "        a, b = b, a % b\n",
    "    return a\n",
    "\n",
    "num1 = 48\n",
    "num2 = 36\n",
    "result = gcd(num1, num2)\n",
    "print(\"GCD of\", num1, \"and\", num2, \"is:\", result)\n"
   ]
  },
  {
   "cell_type": "code",
   "execution_count": 19,
   "id": "2a087d75-9305-45ce-96aa-325af5244614",
   "metadata": {},
   "outputs": [
    {
     "name": "stdout",
     "output_type": "stream",
     "text": [
      "Square root of 16 is: 4.000000000000051\n"
     ]
    }
   ],
   "source": [
    "# 28. Implement a function to calculate the square root of a given number\n",
    "# Ans-\n",
    "def square_root(number, epsilon=1e-6):\n",
    "    if number < 0:\n",
    "        raise ValueError(\"Square root is not defined for negative numbers.\")\n",
    "\n",
    "    guess = number  # Initial guess\n",
    "\n",
    "    while abs(guess * guess - number) > epsilon:\n",
    "        guess = (guess + number / guess) / 2\n",
    "\n",
    "    return guess\n",
    "\n",
    "num = 16\n",
    "result = square_root(num)\n",
    "print(\"Square root of\", num, \"is:\", result)\n"
   ]
  },
  {
   "cell_type": "code",
   "execution_count": 21,
   "id": "daeed7fc-d31c-43c0-a121-48b25046f2da",
   "metadata": {},
   "outputs": [
    {
     "name": "stdout",
     "output_type": "stream",
     "text": [
      "Is the string a palindrome? True\n"
     ]
    }
   ],
   "source": [
    "# 29. Write a Python program to check if a given string is a valid palindrome ignoringnon-alphanumeric characters\n",
    "# Ans-\n",
    "def is_palindrome(string):\n",
    "    # Remove non-alphanumeric characters and convert to lowercase\n",
    "    cleaned_string = ''.join(char.lower() for char in string if char.isalnum())\n",
    "\n",
    "    # Check if the cleaned string is a palindrome\n",
    "    return cleaned_string == cleaned_string[::-1]\n",
    "\n",
    "# Example usage:\n",
    "input_string = \"A man, a plan, a canal: Panama\"\n",
    "result = is_palindrome(input_string)\n",
    "print(\"Is the string a palindrome?\", result)\n",
    "\n"
   ]
  },
  {
   "cell_type": "code",
   "execution_count": 22,
   "id": "b30b43af-debd-4c77-8d03-cf9e187adc4b",
   "metadata": {},
   "outputs": [
    {
     "name": "stdout",
     "output_type": "stream",
     "text": [
      "Minimum element in the rotated sorted list: 0\n"
     ]
    }
   ],
   "source": [
    "# 30. Implement a function to find the minimum element in a rotated sorted list.\n",
    "# Ans-\n",
    "def find_min_in_rotated_sorted(nums):\n",
    "    left = 0\n",
    "    right = len(nums) - 1\n",
    "\n",
    "    while left < right:\n",
    "        mid = left + (right - left) // 2\n",
    "\n",
    "        if nums[mid] > nums[right]:\n",
    "            left = mid + 1\n",
    "        else:\n",
    "            right = mid\n",
    "\n",
    "    return nums[left]\n",
    "\n",
    "rotated_list = [4, 5, 6, 7, 0, 1, 2]\n",
    "min_element = find_min_in_rotated_sorted(rotated_list)\n",
    "print(\"Minimum element in the rotated sorted list:\", min_element)\n"
   ]
  },
  {
   "cell_type": "code",
   "execution_count": 23,
   "id": "d5fc4ff9-6278-4658-b72f-0d56890a3adc",
   "metadata": {},
   "outputs": [
    {
     "name": "stdout",
     "output_type": "stream",
     "text": [
      "Sum of even numbers: 30\n"
     ]
    }
   ],
   "source": [
    "# 31. Write a program to find the sum of all even numbers in a list\n",
    "# Ans-\n",
    "def sum_even_numbers(numbers):\n",
    "    sum_even = 0\n",
    "\n",
    "    for num in numbers:\n",
    "        if num % 2 == 0:\n",
    "            sum_even += num\n",
    "\n",
    "    return sum_even\n",
    "\n",
    "number_list = [1, 2, 3, 4, 5, 6, 7, 8, 9, 10]\n",
    "sum_even = sum_even_numbers(number_list)\n",
    "print(\"Sum of even numbers:\", sum_even)\n",
    "\n"
   ]
  },
  {
   "cell_type": "code",
   "execution_count": 24,
   "id": "6072ba2a-8326-4a0a-9279-ad5118b38ab4",
   "metadata": {},
   "outputs": [
    {
     "name": "stdout",
     "output_type": "stream",
     "text": [
      "2 raised to the power of 3 is: 8\n"
     ]
    }
   ],
   "source": [
    "# 32. Implement a function to calculate the power of a number using recursion.\n",
    "# Ans-\n",
    "def power(base, exponent):\n",
    "    if exponent == 0:\n",
    "        return 1\n",
    "    elif exponent > 0:\n",
    "        return base * power(base, exponent - 1)\n",
    "    else:\n",
    "        return 1 / base * power(base, exponent + 1)\n",
    "\n",
    "base = 2\n",
    "exponent = 3\n",
    "result = power(base, exponent)\n",
    "print(base, \"raised to the power of\", exponent, \"is:\", result)\n"
   ]
  },
  {
   "cell_type": "code",
   "execution_count": 25,
   "id": "968e60ee-18a1-412e-afd2-5b811bae9d57",
   "metadata": {},
   "outputs": [
    {
     "name": "stdout",
     "output_type": "stream",
     "text": [
      "List with duplicates removed: [1, 3, 2, 4, 5, 6, 7]\n"
     ]
    }
   ],
   "source": [
    "# 33. Write a Python program to remove duplicates from a list while preserving the order.\n",
    "# Ans-\n",
    "def remove_duplicates_preserve_order(lst):\n",
    "    seen = set()\n",
    "    result = []\n",
    "\n",
    "    for item in lst:\n",
    "        if item not in seen:\n",
    "            seen.add(item)\n",
    "            result.append(item)\n",
    "\n",
    "    return result\n",
    "\n",
    "my_list = [1, 3, 2, 4, 3, 2, 5, 6, 4, 7, 6]\n",
    "result = remove_duplicates_preserve_order(my_list)\n",
    "print(\"List with duplicates removed:\", result)\n"
   ]
  },
  {
   "cell_type": "code",
   "execution_count": 26,
   "id": "906e119c-a6c5-4efb-b9c7-03b5f9273935",
   "metadata": {},
   "outputs": [
    {
     "name": "stdout",
     "output_type": "stream",
     "text": [
      "Longest common prefix: fl\n"
     ]
    }
   ],
   "source": [
    "# 34. Implement a function to find the longest common prefix among a list of strings.\n",
    "# Ans-\n",
    "def longest_common_prefix(strs):\n",
    "    if not strs:\n",
    "        return \"\"\n",
    "\n",
    "    # Find the minimum length string in the list\n",
    "    min_length = min(len(string) for string in strs)\n",
    "\n",
    "    # Check character by character for common prefix\n",
    "    for i in range(min_length):\n",
    "        char = strs[0][i]\n",
    "        if any(string[i] != char for string in strs):\n",
    "            return strs[0][:i]\n",
    "\n",
    "    return strs[0][:min_length]\n",
    "\n",
    "string_list = [\"flower\", \"flow\", \"flight\"]\n",
    "common_prefix = longest_common_prefix(string_list)\n",
    "print(\"Longest common prefix:\", common_prefix)\n"
   ]
  },
  {
   "cell_type": "code",
   "execution_count": 27,
   "id": "f902d188-a9e8-42a5-9b32-8ea620d44555",
   "metadata": {},
   "outputs": [
    {
     "name": "stdout",
     "output_type": "stream",
     "text": [
      "Is 25 a perfect square? True\n"
     ]
    }
   ],
   "source": [
    "# 35. Write a program to check if a given number is a perfect square.\n",
    "# Ans-\n",
    "def is_perfect_square(number):\n",
    "    if number < 0:\n",
    "        return False\n",
    "\n",
    "    sqrt = int(number ** 0.5)\n",
    "\n",
    "    return sqrt * sqrt == number\n",
    "\n",
    "num = 25\n",
    "result = is_perfect_square(num)\n",
    "print(\"Is\", num, \"a perfect square?\", result)\n"
   ]
  },
  {
   "cell_type": "code",
   "execution_count": 28,
   "id": "730e2d9b-57a7-413e-a301-72e351366978",
   "metadata": {},
   "outputs": [
    {
     "name": "stdout",
     "output_type": "stream",
     "text": [
      "Product of all elements: 120\n"
     ]
    }
   ],
   "source": [
    "# 36. Implement a function to calculate the product of all elements in a list\n",
    "# Ans-\n",
    "def calculate_product(numbers):\n",
    "    product = 1\n",
    "\n",
    "    for num in numbers:\n",
    "        product *= num\n",
    "\n",
    "    return product\n",
    "\n",
    "number_list = [2, 3, 4, 5]\n",
    "product = calculate_product(number_list)\n",
    "print(\"Product of all elements:\", product)\n"
   ]
  },
  {
   "cell_type": "code",
   "execution_count": 29,
   "id": "38d89768-135f-468c-97b3-5189a3e644f5",
   "metadata": {},
   "outputs": [
    {
     "name": "stdout",
     "output_type": "stream",
     "text": [
      "Reversed sentence: you? are how Hello,\n"
     ]
    }
   ],
   "source": [
    "# 37. Write a Python program to reverse the order of words in a sentence while preserving the\n",
    "# word order.\n",
    "# Ans-\n",
    "def reverse_words_in_sentence(sentence):\n",
    "    words = sentence.split()\n",
    "    reversed_words = words[::-1]\n",
    "    reversed_sentence = ' '.join(reversed_words)\n",
    "    return reversed_sentence\n",
    "\n",
    "input_sentence = \"Hello, how are you?\"\n",
    "result = reverse_words_in_sentence(input_sentence)\n",
    "print(\"Reversed sentence:\", result)\n"
   ]
  },
  {
   "cell_type": "code",
   "execution_count": 32,
   "id": "8b171853-2b44-444e-98ad-d9873fe1b7b8",
   "metadata": {},
   "outputs": [
    {
     "name": "stdout",
     "output_type": "stream",
     "text": [
      "Missing number: 4\n"
     ]
    }
   ],
   "source": [
    "# 38. Implement a function to find the missing number in a given list of consecutive numbers.\n",
    "# Ans-\n",
    "def find_missing_number(numbers):\n",
    "    n = len(numbers) + 1\n",
    "    total_sum = (n * (n + 1)) // 2\n",
    "    actual_sum = sum(numbers)\n",
    "    missing_number = total_sum - actual_sum\n",
    "    return missing_number\n",
    "\n",
    "number_list = [1, 2, 3, 5, 6, 7, 8]\n",
    "missing_number = find_missing_number(number_list)\n",
    "print(\"Missing number:\", missing_number)\n"
   ]
  },
  {
   "cell_type": "code",
   "execution_count": 33,
   "id": "5aba8c97-6063-445a-a1e1-680876295bc1",
   "metadata": {},
   "outputs": [
    {
     "name": "stdout",
     "output_type": "stream",
     "text": [
      "Sum of digits of 12345 is: 15\n"
     ]
    }
   ],
   "source": [
    "# 39. Write a program to find the sum of digits of a given number.\n",
    "# Ans-\n",
    "def sum_of_digits(number):\n",
    "    digit_sum = 0\n",
    "\n",
    "    while number > 0:\n",
    "        digit = number % 10\n",
    "        digit_sum += digit\n",
    "        number //= 10\n",
    "\n",
    "    return digit_sum\n",
    "\n",
    "num = 12345\n",
    "result = sum_of_digits(num)\n",
    "print(\"Sum of digits of\", num, \"is:\", result)\n"
   ]
  },
  {
   "cell_type": "code",
   "execution_count": 34,
   "id": "2ed8cf4d-a033-4850-906f-f326b33efffd",
   "metadata": {},
   "outputs": [
    {
     "name": "stdout",
     "output_type": "stream",
     "text": [
      "Is the string a valid palindrome? True\n"
     ]
    }
   ],
   "source": [
    "# 40. Implement a function to check if a given string is a valid palindrome considering case\n",
    "# sensitivity\n",
    "# Ans-\n",
    "def is_valid_palindrome(string):\n",
    "    clean_string = ''.join(char.lower() for char in string if char.isalnum())\n",
    "    return clean_string == clean_string[::-1]\n",
    "\n",
    "input_string = \"A man, a plan, a canal: Panama\"\n",
    "result = is_valid_palindrome(input_string)\n",
    "print(\"Is the string a valid palindrome?\", result)\n"
   ]
  },
  {
   "cell_type": "code",
   "execution_count": 35,
   "id": "8ab4acac-22c4-476d-9dbc-b817483565e7",
   "metadata": {},
   "outputs": [
    {
     "name": "stdout",
     "output_type": "stream",
     "text": [
      "Smallest missing positive integer: 2\n"
     ]
    }
   ],
   "source": [
    "# 41. Write a Python program to find the smallest missing positive integer in a list.\n",
    "# Ans-\n",
    "def find_smallest_missing_positive(nums):\n",
    "    n = len(nums)\n",
    "\n",
    "    # Step 1: Move all positive integers to the correct position\n",
    "    for i in range(n):\n",
    "        while 1 <= nums[i] <= n and nums[nums[i] - 1] != nums[i]:\n",
    "            nums[nums[i] - 1], nums[i] = nums[i], nums[nums[i] - 1]\n",
    "\n",
    "    # Step 2: Find the first index with a number out of place\n",
    "    for i in range(n):\n",
    "        if nums[i] != i + 1:\n",
    "            return i + 1\n",
    "\n",
    "    # Step 3: All numbers are in place, return the next positive integer\n",
    "    return n + 1\n",
    "\n",
    "number_list = [3, 4, -1, 1]\n",
    "smallest_missing = find_smallest_missing_positive(number_list)\n",
    "print(\"Smallest missing positive integer:\", smallest_missing)\n"
   ]
  },
  {
   "cell_type": "code",
   "execution_count": 36,
   "id": "1f8cf997-9070-4bec-a749-39e75b60bad2",
   "metadata": {},
   "outputs": [
    {
     "name": "stdout",
     "output_type": "stream",
     "text": [
      "Longest palindrome substring: bab\n"
     ]
    }
   ],
   "source": [
    "# 42. Implement a function to find the longest palindrome substring in a given string.\n",
    "# ANs-\n",
    "def longest_palindrome_substring(s):\n",
    "    if len(s) < 2:\n",
    "        return s\n",
    "\n",
    "    start = 0\n",
    "    max_len = 1\n",
    "\n",
    "    def expand_from_center(left, right):\n",
    "        nonlocal start, max_len\n",
    "\n",
    "        while left >= 0 and right < len(s) and s[left] == s[right]:\n",
    "            left -= 1\n",
    "            right += 1\n",
    "\n",
    "        if right - left - 1 > max_len:\n",
    "            start = left + 1\n",
    "            max_len = right - left - 1\n",
    "\n",
    "    for i in range(len(s)):\n",
    "        expand_from_center(i, i)  # odd-length palindromes\n",
    "        expand_from_center(i, i + 1)  # even-length palindromes\n",
    "\n",
    "    return s[start:start + max_len]\n",
    "\n",
    "input_string = \"babad\"\n",
    "result = longest_palindrome_substring(input_string)\n",
    "print(\"Longest palindrome substring:\", result)\n"
   ]
  },
  {
   "cell_type": "code",
   "execution_count": 37,
   "id": "987e2b6c-6106-4834-ae01-4e0e439c3416",
   "metadata": {},
   "outputs": [
    {
     "name": "stdout",
     "output_type": "stream",
     "text": [
      "Number of occurrences of 2 in the list: 4\n"
     ]
    }
   ],
   "source": [
    "# 43. Write a program to find the number of occurrences of a given element in a list.\n",
    "# Ans-\n",
    "def count_occurrences(lst, element):\n",
    "    count = 0\n",
    "\n",
    "    for item in lst:\n",
    "        if item == element:\n",
    "            count += 1\n",
    "\n",
    "    return count\n",
    "\n",
    "number_list = [1, 2, 3, 4, 2, 2, 5, 2, 6]\n",
    "element = 2\n",
    "occurrences = count_occurrences(number_list, element)\n",
    "print(\"Number of occurrences of\", element, \"in the list:\", occurrences)\n"
   ]
  },
  {
   "cell_type": "code",
   "execution_count": 38,
   "id": "59d2c357-e128-40af-949c-c8c97d17a45d",
   "metadata": {},
   "outputs": [
    {
     "name": "stdout",
     "output_type": "stream",
     "text": [
      "Is 28 a perfect number? True\n"
     ]
    }
   ],
   "source": [
    "# 44. Implement a function to check if a given number is a perfect number.\n",
    "# Ans-\n",
    "def is_perfect_number(number):\n",
    "    if number <= 0:\n",
    "        return False\n",
    "\n",
    "    divisor_sum = 0\n",
    "\n",
    "    for i in range(1, number):\n",
    "        if number % i == 0:\n",
    "            divisor_sum += i\n",
    "\n",
    "    return divisor_sum == number\n",
    "\n",
    "num = 28\n",
    "result = is_perfect_number(num)\n",
    "print(\"Is\", num, \"a perfect number?\", result)\n"
   ]
  },
  {
   "cell_type": "code",
   "execution_count": 39,
   "id": "534bce21-00a6-4ea9-80d8-b171c8dbe470",
   "metadata": {},
   "outputs": [
    {
     "name": "stdout",
     "output_type": "stream",
     "text": [
      "String with duplicates removed: Helo, wrd!\n"
     ]
    }
   ],
   "source": [
    "# 45. Write a Python program to remove all duplicates from a string.\n",
    "# Ans-\n",
    "def remove_duplicates(string):\n",
    "    unique_chars = \"\"\n",
    "\n",
    "    for char in string:\n",
    "        if char not in unique_chars:\n",
    "            unique_chars += char\n",
    "\n",
    "    return unique_chars\n",
    "\n",
    "input_string = \"Hello, world!\"\n",
    "result = remove_duplicates(input_string)\n",
    "print(\"String with duplicates removed:\", result)\n"
   ]
  },
  {
   "cell_type": "code",
   "execution_count": 40,
   "id": "cc19c995-345a-41b4-983d-6bf69be0bd11",
   "metadata": {},
   "outputs": [
    {
     "name": "stdout",
     "output_type": "stream",
     "text": [
      "First missing positive integer: 2\n"
     ]
    }
   ],
   "source": [
    "# 46. Implement a function to find the first missing positive\n",
    "# ANS-\n",
    "def find_first_missing_positive(nums):\n",
    "    n = len(nums)\n",
    "\n",
    "    # Step 1: Rearrange the numbers to put positive integers in their correct positions\n",
    "    for i in range(n):\n",
    "        while 1 <= nums[i] <= n and nums[nums[i] - 1] != nums[i]:\n",
    "            nums[nums[i] - 1], nums[i] = nums[i], nums[nums[i] - 1]\n",
    "\n",
    "    # Step 2: Find the first index where the number is out of place\n",
    "    for i in range(n):\n",
    "        if nums[i] != i + 1:\n",
    "            return i + 1\n",
    "\n",
    "    # Step 3: All numbers are in place, return the next positive integer\n",
    "    return n + 1\n",
    "\n",
    "\n",
    "number_list = [3, 4, -1, 1]\n",
    "first_missing_positive = find_first_missing_positive(number_list)\n",
    "print(\"First missing positive integer:\", first_missing_positive)\n"
   ]
  },
  {
   "cell_type": "code",
   "execution_count": null,
   "id": "4fabb4dd-f56e-4586-8fc5-43b11ce5a4ae",
   "metadata": {},
   "outputs": [],
   "source": []
  },
  {
   "cell_type": "code",
   "execution_count": null,
   "id": "7bf524e3-da79-416f-8a69-655c96e3eea7",
   "metadata": {},
   "outputs": [],
   "source": []
  }
 ],
 "metadata": {
  "kernelspec": {
   "display_name": "Python 3 (ipykernel)",
   "language": "python",
   "name": "python3"
  },
  "language_info": {
   "codemirror_mode": {
    "name": "ipython",
    "version": 3
   },
   "file_extension": ".py",
   "mimetype": "text/x-python",
   "name": "python",
   "nbconvert_exporter": "python",
   "pygments_lexer": "ipython3",
   "version": "3.10.8"
  }
 },
 "nbformat": 4,
 "nbformat_minor": 5
}
