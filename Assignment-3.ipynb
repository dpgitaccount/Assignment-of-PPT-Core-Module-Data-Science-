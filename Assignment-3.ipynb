{
 "cells": [
  {
   "cell_type": "code",
   "execution_count": null,
   "id": "2faf96f7-6e78-4808-9bc5-1f20a164933f",
   "metadata": {},
   "outputs": [],
   "source": [
    "1. Scenario: A company wants to analyze the sales performance of its products in different regions. They have collected the following data:\n",
    "   Region A: [10, 15, 12, 8, 14]\n",
    "   Region B: [18, 20, 16, 22, 25]\n",
    "   Calculate the mean sales for each region.\n",
    "ANS-\n",
    "\n",
    "To calculate the mean sales for each region, we need to sum up the sales values and divide the total by the number of data points in each region.\n",
    "calculate the mean sales for each region using the given data:\n",
    "\n",
    "Region A:\n",
    "Sales data: [10, 15, 12, 8, 14]\n",
    "\n",
    "To find the mean, sum up all the sales values:\n",
    "10 + 15 + 12 + 8 + 14 = 59\n",
    "\n",
    "Now, divide the sum by the number of data points (in this case, 5):\n",
    "59 / 5 = 11.8\n",
    "\n",
    "Therefore, the mean sales for Region A is 11.8.\n",
    "\n",
    "Region B:\n",
    "Sales data: [18, 20, 16, 22, 25]\n",
    "\n",
    "To find the mean, sum up all the sales values:\n",
    "18 + 20 + 16 + 22 + 25 = 101\n",
    "\n",
    "Now, divide the sum by the number of data points (in this case, 5):\n",
    "101 / 5 = 20.2\n",
    "\n",
    "the mean sales for Region B is 20.2."
   ]
  },
  {
   "cell_type": "code",
   "execution_count": null,
   "id": "3ecad144-18bf-448c-b3c6-ff0c3360d007",
   "metadata": {},
   "outputs": [],
   "source": [
    "2. Scenario: A survey is conducted to measure customer satisfaction on a scale of 1 to 5. The data collected is as follows:\n",
    "   [4, 5, 2, 3, 5, 4, 3, 2, 4, 5]\n",
    "   Calculate the mode of the survey responses.\n",
    "ANS-\n",
    "\n",
    "To calculate the mode of the survey responses, we need to determine the value or values that appear most frequently in the dataset.\n",
    "The survey responses are: [4, 5, 2, 3, 5, 4, 3, 2, 4, 5]\n",
    "\n",
    "find the mode of these survey responses:\n",
    "\n",
    "2 appears twice\n",
    "3 appears twice\n",
    "4 appears three times\n",
    "5 appears three times\n",
    "Both 4 and 5 appear the most frequently in the dataset, with a frequency of three each. \n",
    "\n",
    "Therefore, the mode of the survey responses is 4 and 5."
   ]
  },
  {
   "cell_type": "code",
   "execution_count": 3,
   "id": "7e3835ec-8f9a-4218-86d6-81bd51ed05e9",
   "metadata": {},
   "outputs": [
    {
     "name": "stdout",
     "output_type": "stream",
     "text": [
      "Median salary for Department A: 5750.0\n",
      "Median salary for Department B: 5500\n"
     ]
    }
   ],
   "source": [
    "3. Scenario: A company wants to compare the salaries of two departments. The salary data for Department A and Department B are as follows:\n",
    "   Department A: [5000, 6000, 5500, 7000]\n",
    "   Department B: [4500, 5500, 5800, 6000, 5200]\n",
    "   Calculate the median salary for each department.\n",
    "\n",
    "ANS-\n",
    "\n",
    "#Importing the statistics module\n",
    "import statistics\n",
    "\n",
    "# Salary data for Department A and Department B\n",
    "department_a = [5000, 6000, 5500, 7000]\n",
    "department_b = [4500, 5500, 5800, 6000, 5200]\n",
    "\n",
    "# Calculating the median salary for each department\n",
    "median_a = statistics.median(department_a)\n",
    "median_b = statistics.median(department_b)\n",
    "\n",
    "print(\"Median salary for Department A:\", median_a)\n",
    "print(\"Median salary for Department B:\", median_b)\n",
    "\n"
   ]
  },
  {
   "cell_type": "code",
   "execution_count": 4,
   "id": "f0338bc3-eb3d-4457-953d-2cca0483e622",
   "metadata": {},
   "outputs": [
    {
     "name": "stdout",
     "output_type": "stream",
     "text": [
      "The range of stock prices is: 1.3000000000000007\n"
     ]
    }
   ],
   "source": [
    "4. Scenario: A data analyst wants to determine the variability in the daily stock prices of a company. The data collected is as follows:\n",
    "   [25.5, 24.8, 26.1, 25.3, 24.9]\n",
    "   Calculate the range of the stock prices.\n",
    "    \n",
    "ANS-\n",
    "\n",
    "To calculate the range of the stock prices, we need to find the difference between the highest and lowest values in the data set. In this case, the data set is [25.5, 24.8, 26.1, 25.3, 24.9].\n",
    "\n",
    "Step 1: Find the highest value in the data set:\n",
    "The highest value in the data set is 26.1.\n",
    "\n",
    "Step 2: Find the lowest value in the data set:\n",
    "The lowest value in the data set is 24.8.\n",
    "\n",
    "Step 3: Calculate the range:\n",
    "The range is calculated by subtracting the lowest value from the highest value:\n",
    "Range = Highest value - Lowest value\n",
    "Range = 26.1 - 24.8\n",
    "Range = 1.3\n",
    "\n",
    "the range of the stock prices is 1.3.\n",
    "\n",
    "code-\n",
    "\n",
    "stock_prices = [25.5, 24.8, 26.1, 25.3, 24.9]\n",
    "\n",
    "price_range = max(stock_prices) - min(stock_prices)\n",
    "\n",
    "print(\"The range of stock prices is:\", price_range)\n"
   ]
  },
  {
   "cell_type": "code",
   "execution_count": 5,
   "id": "35ec4fb0-899d-47a2-8813-6aa6df8960b7",
   "metadata": {},
   "outputs": [
    {
     "name": "stdout",
     "output_type": "stream",
     "text": [
      "T-Statistic: 1.4312528946642733\n",
      "P-Value: 0.19023970239078333\n"
     ]
    }
   ],
   "source": [
    "5. Scenario: A study is conducted to compare the performance of two different teaching methods. The test scores of the students in each group are as follows:\n",
    "   Group A: [85, 90, 92, 88, 91]\n",
    "   Group B: [82, 88, 90, 86, 87]\n",
    "   Perform a t-test to determine if there is a significant difference in the mean scores between the two groups.\n",
    "\n",
    "ANS-\n",
    "\n",
    "To perform a t-test and determine if there is a significant difference in the mean scores between Group A and Group B, we can use the independent two-sample t-test. This test assumes that the data in each group are independent and approximately normally distributed.\n",
    "\n",
    "First calculate some statistics for each group:\n",
    "\n",
    "Group A:\n",
    "Mean (x̄₁) = (85 + 90 + 92 + 88 + 91) / 5 = 88.4\n",
    "Standard deviation (s₁) = √[((85 - 88.4)² + (90 - 88.4)² + (92 - 88.4)² + (88 - 88.4)² + (91 - 88.4)²) / 4] ≈ 2.71\n",
    "\n",
    "Group B:\n",
    "Mean (x̄₂) = (82 + 88 + 90 + 86 + 87) / 5 = 86.6\n",
    "Standard deviation (s₂) = √[((82 - 86.6)² + (88 - 86.6)² + (90 - 86.6)² + (86 - 86.6)² + (87 - 86.6)²) / 4] ≈ 2.39\n",
    "\n",
    "Next, we can calculate the t-value using the formula:\n",
    "\n",
    "t = (x̄₁ - x̄₂) / √((s₁² / n₁) + (s₂² / n₂))\n",
    "\n",
    "where x̄₁ and x̄₂ are the means of Group A and Group B, s₁ and s₂ are the standard deviations, and n₁ and n₂ are the sample sizes.\n",
    "\n",
    "t = (88.4 - 86.6) / √((2.71² / 5) + (2.39² / 5))\n",
    "≈ 1.70 / √(1.47 + 0.91)\n",
    "≈ 1.70 / √2.38\n",
    "≈ 1.70 / 1.54\n",
    "≈ 1.10\n",
    "\n",
    "Now, we need to determine the degrees of freedom (df) to find the critical value for the t-test. The degrees of freedom can be calculated using the formula:\n",
    "\n",
    "df = n₁ + n₂ - 2\n",
    "\n",
    "df = 5 + 5 - 2 = 8\n",
    "\n",
    "With a significance level (α) of your choice (e.g., 0.05), you can look up the critical value for the t-test using the t-distribution table or a statistical software.\n",
    "assume a significance level of 0.05 (5%). Using the t-distribution table with 8 degrees of freedom, the critical two-tailed t-value is approximately 2.31.\n",
    "our calculated t-value (1.10) is less than the critical t-value (2.31), we fail to reject the null hypothesis. \n",
    "This means that there is not enough evidence to suggest a significant difference in the mean scores between the two groups. \n",
    "In other words, the teaching methods used in Group A and Group B did not result in significantly different test scores.\n",
    "\n",
    "code-\n",
    "\n",
    "import scipy.stats as stats\n",
    "\n",
    "# Define the scores for Group A and Group B\n",
    "group_a = [85, 90, 92, 88, 91]\n",
    "group_b = [82, 88, 90, 86, 87]\n",
    "\n",
    "# Perform the t-test\n",
    "t_statistic, p_value = stats.ttest_ind(group_a, group_b)\n",
    "\n",
    "# Print the results\n",
    "print(\"T-Statistic:\", t_statistic)\n",
    "print(\"P-Value:\", p_value)\n",
    "\n",
    "\n"
   ]
  },
  {
   "cell_type": "code",
   "execution_count": 6,
   "id": "37245525-15d5-4e16-993c-44ae4e23b053",
   "metadata": {},
   "outputs": [
    {
     "name": "stdout",
     "output_type": "stream",
     "text": [
      "Correlation Coefficient: 0.8757511375750132\n"
     ]
    }
   ],
   "source": [
    "6. Scenario: A company wants to analyze the relationship between advertising expenditure and sales. The data collected is as follows:\n",
    "   Advertising Expenditure (in thousands): [10, 15, 12, 8, 14]\n",
    "   Sales (in thousands): [25, 30, 28, 20, 26]\n",
    "   Calculate the correlation coefficient between advertising expenditure and sales.\n",
    "\n",
    "ANS-\n",
    "\n",
    "import numpy as np\n",
    "\n",
    "# Details of the advertising expenditure and sales data\n",
    "expenditure = [10, 15, 12, 8, 14]\n",
    "sales = [25, 30, 28, 20, 26]\n",
    "\n",
    "# Calculation of correlation coefficient\n",
    "correlation_coefficient = np.corrcoef(expenditure, sales)[0, 1]\n",
    "\n",
    "print(\"Correlation Coefficient:\", correlation_coefficient)\n"
   ]
  },
  {
   "cell_type": "code",
   "execution_count": 8,
   "id": "801d94c2-75ca-4b26-bd56-47dd1b163694",
   "metadata": {},
   "outputs": [
    {
     "name": "stdout",
     "output_type": "stream",
     "text": [
      "Standard Deviation: 8.591246929842246\n"
     ]
    }
   ],
   "source": [
    "7. Scenario: A survey is conducted to measure the heights of a group of people. The data collected is as follows:\n",
    "   [160, 170, 165, 155, 175, 180, 170]\n",
    "   Calculate the standard deviation of the heights.\n",
    "\n",
    "ANS-\n",
    "import statistics\n",
    "\n",
    "heights = [160, 170, 165, 155, 175, 180, 170]\n",
    "\n",
    "standard_deviation = statistics.stdev(heights)\n",
    "\n",
    "print(\"Standard Deviation:\", standard_deviation)\n"
   ]
  },
  {
   "cell_type": "code",
   "execution_count": 10,
   "id": "60fb6197-1f63-4586-8a4b-6a6effc74735",
   "metadata": {},
   "outputs": [
    {
     "data": {
      "image/png": "[encoded data removed]",
      "text/plain": [
       "<Figure size 640x480 with 1 Axes>"
      ]
     },
     "metadata": {},
     "output_type": "display_data"
    },
    {
     "name": "stdout",
     "output_type": "stream",
     "text": [
      "Regression Line: Job Satisfaction = -0.4680851063829786 * Employee Tenure + 8.595744680851062\n"
     ]
    }
   ],
   "source": [
    "8. Scenario: A company wants to analyze the relationship between employee tenure and job satisfaction. The data collected is as follows:\n",
    "   Employee Tenure (in years): [2, 3, 5, 4, 6, 2, 4]\n",
    "   Job Satisfaction (on a scale of 1 to 10): [7, 8, 6, 9, 5, 7, 6]\n",
    "   Perform a linear regression analysis to predict job satisfaction based on employee tenure.\n",
    "\n",
    "ANS-\n",
    "\n",
    "import numpy as np\n",
    "import matplotlib.pyplot as plt\n",
    "from sklearn.linear_model import LinearRegression\n",
    "\n",
    "# Step 1: Prepare the data\n",
    "employee_tenure = np.array([2, 3, 5, 4, 6, 2, 4]).reshape(-1, 1)\n",
    "job_satisfaction = np.array([7, 8, 6, 9, 5, 7, 6])\n",
    "\n",
    "# Step 2: Visualize the data\n",
    "plt.scatter(employee_tenure, job_satisfaction)\n",
    "plt.xlabel(\"Employee Tenure (years)\")\n",
    "plt.ylabel(\"Job Satisfaction\")\n",
    "plt.show()\n",
    "\n",
    "# Step 3: Calculate the regression line\n",
    "regression_model = LinearRegression()\n",
    "regression_model.fit(employee_tenure, job_satisfaction)\n",
    "\n",
    "# Get the slope and y-intercept\n",
    "slope = regression_model.coef_[0]\n",
    "intercept = regression_model.intercept_\n",
    "\n",
    "# Step 4: Interpret the results\n",
    "print(\"Regression Line: Job Satisfaction =\", slope, \"* Employee Tenure +\", intercept)\n"
   ]
  },
  {
   "cell_type": "code",
   "execution_count": 11,
   "id": "d78322b1-1581-484e-a2ef-ff0af5ce86c4",
   "metadata": {},
   "outputs": [
    {
     "name": "stdout",
     "output_type": "stream",
     "text": [
      "F-statistic: 16.0\n",
      "Critical F-value: 5.317655071578714\n",
      "p-value: 0.003949772803445328\n"
     ]
    }
   ],
   "source": [
    "9. Scenario: A study is conducted to compare the effectiveness of two different medications. The recovery times of the patients in each group are as follows:\n",
    "   Medication A: [10, 12, 14, 11, 13]\n",
    "   Medication B: [15, 17, 16, 14, 18]\n",
    "   Perform an analysis of variance (ANOVA) to determine if there is a significant difference in the mean recovery times between the two medications.\n",
    "\n",
    "ANS-\n",
    "import numpy as np\n",
    "import scipy.stats as stats\n",
    "\n",
    "# Step 1: Prepare the data\n",
    "medication_a = np.array([10, 12, 14, 11, 13])\n",
    "medication_b = np.array([15, 17, 16, 14, 18])\n",
    "\n",
    "# Step 2: Calculate the necessary values\n",
    "n_a = len(medication_a)\n",
    "n_b = len(medication_b)\n",
    "\n",
    "mean_a = np.mean(medication_a)\n",
    "mean_b = np.mean(medication_b)\n",
    "\n",
    "SS_between = n_a * (mean_a - np.mean([mean_a, mean_b]))**2 + n_b * (mean_b - np.mean([mean_a, mean_b]))**2\n",
    "df_between = 1\n",
    "MS_between = SS_between / df_between\n",
    "\n",
    "SS_within = np.sum((medication_a - mean_a)**2) + np.sum((medication_b - mean_b)**2)\n",
    "df_within = n_a + n_b - 2\n",
    "MS_within = SS_within / df_within\n",
    "\n",
    "# Step 3: Compute the F-statistic\n",
    "F_statistic = MS_between / MS_within\n",
    "\n",
    "# Step 4: Determine the critical F-value and p-value\n",
    "alpha = 0.05  # Significance level\n",
    "critical_F_value = stats.f.ppf(1 - alpha, df_between, df_within)\n",
    "p_value = 1 - stats.f.cdf(F_statistic, df_between, df_within)\n",
    "\n",
    "# Print the results\n",
    "print(\"F-statistic:\", F_statistic)\n",
    "print(\"Critical F-value:\", critical_F_value)\n",
    "print(\"p-value:\", p_value)\n"
   ]
  },
  {
   "cell_type": "code",
   "execution_count": 12,
   "id": "944f78a7-394f-4b40-bdb5-45d60396f649",
   "metadata": {},
   "outputs": [
    {
     "name": "stdout",
     "output_type": "stream",
     "text": [
      "75th percentile: 8.75\n"
     ]
    }
   ],
   "source": [
    "10. Scenario: A company wants to analyze customer feedback ratings on a scale of 1 to 10. The data collected is\n",
    "\n",
    " as follows:\n",
    "    [8, 9, 7, 6, 8, 10, 9, 8, 7, 8]\n",
    "    Calculate the 75th percentile of the feedback ratings.\n",
    "\n",
    "ANS-\n",
    "To calculate the 75th percentile of the feedback ratings, we can follow these steps:\n",
    "\n",
    "Step 1: Organize the data\n",
    "Represent the feedback ratings as a list of numbers:\n",
    "\n",
    "Feedback ratings: [8, 9, 7, 6, 8, 10, 9, 8, 7, 8]\n",
    "\n",
    "Step 2: Sort the data\n",
    "Sort the feedback ratings in ascending order.\n",
    "\n",
    "Sorted feedback ratings: [6, 7, 7, 8, 8, 8, 8, 9, 9, 10]\n",
    "\n",
    "Step 3: Determine the position of the percentile\n",
    "Calculate the position of the 75th percentile using the formula:\n",
    "\n",
    "Position = (P / 100) * (N + 1)\n",
    "\n",
    "where P is the desired percentile (75) and N is the total number of data points.\n",
    "\n",
    "In this case, P = 75 and N = 10.\n",
    "\n",
    "Position = (75 / 100) * (10 + 1) = 7.75\n",
    "\n",
    "Step 4: Calculate the percentile value\n",
    "Since the position is not an integer, we need to interpolate to find the value at the 75th percentile.\n",
    "\n",
    "Lower rank = floor(Position) = floor(7.75) = 7\n",
    "Upper rank = lower rank + 1 = 7 + 1 = 8\n",
    "\n",
    "Percentile = Value at lower rank + (Position - lower rank) * (Value at upper rank - Value at lower rank)\n",
    "\n",
    "Percentile = 8 + (7.75 - 7) * (8 - 8) = 8\n",
    "\n",
    "Therefore, the 75th percentile of the feedback ratings is 8.\n",
    "\n",
    "code:-\n",
    "\n",
    "import numpy as np\n",
    "\n",
    "feedback_ratings = np.array([8, 9, 7, 6, 8, 10, 9, 8, 7, 8])\n",
    "percentile_75 = np.percentile(feedback_ratings, 75)\n",
    "\n",
    "print(\"75th percentile:\", percentile_75)\n"
   ]
  },
  {
   "cell_type": "code",
   "execution_count": 13,
   "id": "627eea3c-0b2a-47c9-b78d-234d613f0926",
   "metadata": {},
   "outputs": [
    {
     "name": "stdout",
     "output_type": "stream",
     "text": [
      "Fail to reject the null hypothesis. The mean weight does not differ significantly from 10 grams.\n",
      "p-value: 0.19077595151110102\n"
     ]
    }
   ],
   "source": [
    "11. Scenario: A quality control department wants to test the weight consistency of a product. The weights of a sample of products are as follows:\n",
    "    [10.2, 9.8, 10.0, 10.5, 10.3, 10.1]\n",
    "    Perform a hypothesis test to determine if the mean weight differs significantly from 10 grams\n",
    "\n",
    "ANS-\n",
    "import numpy as np\n",
    "from scipy.stats import ttest_1samp\n",
    "\n",
    "sample_weights = np.array([10.2, 9.8, 10.0, 10.5, 10.3, 10.1])\n",
    "hypothesized_mean = 10.0\n",
    "significance_level = 0.05\n",
    "\n",
    "# Step 3: Conduct the hypothesis test\n",
    "t_statistic, p_value = ttest_1samp(sample_weights, hypothesized_mean)\n",
    "\n",
    "# Step 4: Interpret the results\n",
    "if p_value < significance_level:\n",
    "    print(\"Reject the null hypothesis. The mean weight differs significantly from 10 grams.\")\n",
    "else:\n",
    "    print(\"Fail to reject the null hypothesis. The mean weight does not differ significantly from 10 grams.\")\n",
    "\n",
    "print(\"p-value:\", p_value)\n",
    "\n"
   ]
  },
  {
   "cell_type": "code",
   "execution_count": 20,
   "id": "689bdcc1-25bc-47eb-900f-03f36579e2e0",
   "metadata": {},
   "outputs": [
    {
     "name": "stdout",
     "output_type": "stream",
     "text": [
      "Chi-square statistic: 6.110658166925435\n",
      "Critical chi-square value: 9.487729036781154\n",
      "p-value: 0.19103526314060293\n"
     ]
    }
   ],
   "source": [
    "12. Scenario: A company wants to analyze the click-through rates of two different website designs. The number of clicks for each design is as follows:\n",
    "    Design A: [100, 120, 110, 90, 95]\n",
    "    Design B: [80, 85, 90, 95, 100]\n",
    "    Perform a chi-square test to determine if there is a significant difference in the click-through rates between the two designs.\n",
    "\n",
    "ANS-\n",
    "import numpy as np\n",
    "from scipy.stats import chi2, chi2_contingency\n",
    "\n",
    "# Step 1: Prepare the data\n",
    "design_a = np.array([100, 120, 110, 90, 95])\n",
    "design_b = np.array([80, 85, 90, 95, 100])\n",
    "\n",
    "# Step 2: Create a contingency table\n",
    "contingency_table = np.array([design_a, design_b])\n",
    "\n",
    "# Step 3: Conduct the chi-square test\n",
    "chi2_statistic, p_value, _, _ = chi2_contingency(contingency_table)\n",
    "\n",
    "# Step 4: Determine the critical chi-square value and p-value\n",
    "alpha = 0.05  # Significance level\n",
    "df = (contingency_table.shape[0] - 1) * (contingency_table.shape[1] - 1)\n",
    "critical_chi2_value = chi2.ppf(1 - alpha, df)\n",
    "\n",
    "# Print the results\n",
    "print(\"Chi-square statistic:\", chi2_statistic)\n",
    "print(\"Critical chi-square value:\", critical_chi2_value)\n",
    "print(\"p-value:\", p_value)\n",
    "\n"
   ]
  },
  {
   "cell_type": "code",
   "execution_count": 21,
   "id": "982fae68-192d-4cce-8056-e1bb6f218cee",
   "metadata": {},
   "outputs": [
    {
     "name": "stdout",
     "output_type": "stream",
     "text": [
      "Sample mean: 7.9\n",
      "Sample standard deviation: 1.1972189997378646\n",
      "Critical value: 2.2621571627409915\n",
      "Margin of error: 0.8564388794001122\n",
      "Confidence interval: (7.043561120599888, 8.756438879400113)\n"
     ]
    }
   ],
   "source": [
    "13. Scenario: A survey is conducted to measure customer satisfaction with a product on a scale of 1 to 10. The data collected is as follows:\n",
    "    [7, 9, 6, 8, 10, 7, 8, 9, 7, 8]\n",
    "    Calculate the 95% confidence interval for the population mean satisfaction score.\n",
    "\n",
    "ANS-\n",
    "\n",
    "import numpy as np\n",
    "from scipy.stats import t\n",
    "\n",
    "# Step 1: Organize the data\n",
    "satisfaction_scores = np.array([7, 9, 6, 8, 10, 7, 8, 9, 7, 8])\n",
    "\n",
    "# Step 2: Calculate the sample mean and sample standard deviation\n",
    "sample_mean = np.mean(satisfaction_scores)\n",
    "sample_std = np.std(satisfaction_scores, ddof=1)  # ddof=1 for sample standard deviation\n",
    "\n",
    "# Step 3: Determine the critical value\n",
    "confidence_level = 0.95\n",
    "alpha = 1 - confidence_level\n",
    "degrees_of_freedom = len(satisfaction_scores) - 1\n",
    "critical_value = t.ppf(1 - alpha / 2, degrees_of_freedom)\n",
    "\n",
    "# Step 4: Calculate the margin of error\n",
    "margin_of_error = critical_value * (sample_std / np.sqrt(len(satisfaction_scores)))\n",
    "\n",
    "# Step 5: Calculate the confidence interval\n",
    "confidence_interval = (sample_mean - margin_of_error, sample_mean + margin_of_error)\n",
    "\n",
    "# Print the results\n",
    "print(\"Sample mean:\", sample_mean)\n",
    "print(\"Sample standard deviation:\", sample_std)\n",
    "print(\"Critical value:\", critical_value)\n",
    "print(\"Margin of error:\", margin_of_error)\n",
    "print(\"Confidence interval:\", confidence_interval)\n",
    "\n"
   ]
  },
  {
   "cell_type": "code",
   "execution_count": 22,
   "id": "749faa3e-50f7-43cd-8346-e439921f514e",
   "metadata": {},
   "outputs": [
    {
     "name": "stdout",
     "output_type": "stream",
     "text": [
      "Regression Line: Performance = 0.4999999999999999 * Temperature + -2.8999999999999986\n"
     ]
    }
   ],
   "source": [
    "# 14. Scenario: A company wants to analyze the effect of temperature on product performance. The data collected is as follows:\n",
    "#     Temperature (in degrees Celsius): [20, 22, 23, 19, 21]\n",
    "#     Performance (on a scale of 1 to 10): [8, 7, 9, 6, 8]\n",
    "#     Perform a simple linear regression to predict performance based on temperature.\n",
    "\n",
    "# ANS-\n",
    "\n",
    "import numpy as np\n",
    "from sklearn.linear_model import LinearRegression\n",
    "\n",
    "# Step 1: Prepare the data\n",
    "temperature = np.array([20, 22, 23, 19, 21]).reshape(-1, 1)\n",
    "performance = np.array([8, 7, 9, 6, 8])\n",
    "\n",
    "# Step 2: Fit the linear regression model\n",
    "regression_model = LinearRegression()\n",
    "regression_model.fit(temperature, performance)\n",
    "\n",
    "# Get the slope and intercept of the regression line\n",
    "slope = regression_model.coef_[0]\n",
    "intercept = regression_model.intercept_\n",
    "\n",
    "# Step 3: Interpret the results\n",
    "print(\"Regression Line: Performance =\", slope, \"* Temperature +\", intercept)\n"
   ]
  },
  {
   "cell_type": "code",
   "execution_count": 23,
   "id": "3cc0dbee-750d-4329-b1d6-2e5611831f28",
   "metadata": {},
   "outputs": [
    {
     "name": "stdout",
     "output_type": "stream",
     "text": [
      "There is no significant difference in the median preferences between the two groups.\n",
      "p-value: 0.380836480306712\n"
     ]
    }
   ],
   "source": [
    "# 15. Scenario: A study is conducted to compare the preferences of two groups of participants. The preferences are measured on a Likert scale from 1 to 5. The data collected is as follows:\n",
    "#     Group A: [4, 3, 5, 2, 4]\n",
    "#     Group B: [3, 2, 4, 3, 3]\n",
    "#     Perform a Mann-Whitney U test to determine if there is a significant difference in the median preferences between the two groups.\n",
    "\n",
    "# ANS-\n",
    "\n",
    "import numpy as np\n",
    "from scipy.stats import mannwhitneyu\n",
    "\n",
    "# Step 1: Prepare the data\n",
    "group_a = np.array([4, 3, 5, 2, 4])\n",
    "group_b = np.array([3, 2, 4, 3, 3])\n",
    "\n",
    "# Step 2: Conduct the Mann-Whitney U test\n",
    "statistic, p_value = mannwhitneyu(group_a, group_b, alternative='two-sided')\n",
    "\n",
    "# Step 3: Interpret the results\n",
    "alpha = 0.05  # Significance level\n",
    "if p_value < alpha:\n",
    "    print(\"There is a significant difference in the median preferences between the two groups.\")\n",
    "else:\n",
    "    print(\"There is no significant difference in the median preferences between the two groups.\")\n",
    "\n",
    "print(\"p-value:\", p_value)\n"
   ]
  },
  {
   "cell_type": "code",
   "execution_count": 24,
   "id": "018ce1e1-a621-4974-97b1-67d22bba9623",
   "metadata": {},
   "outputs": [
    {
     "name": "stdout",
     "output_type": "stream",
     "text": [
      "First Quartile (Q1): 36.25\n",
      "Third Quartile (Q3): 58.75\n",
      "Interquartile Range (IQR): 22.5\n"
     ]
    }
   ],
   "source": [
    "16. Scenario: A company wants to analyze the distribution of customer ages. The data collected is as follows:\n",
    "    [25, 30, 35, 40, 45, 50, 55, 60, 65, 70]\n",
    "    Calculate the interquartile range (IQR) of the ages.\n",
    "\n",
    "ANS-\n",
    "\n",
    "import numpy as np\n",
    "\n",
    "# Step 1: Organize the data\n",
    "customer_ages = np.array([25, 30, 35, 40, 45, 50, 55, 60, 65, 70])\n",
    "\n",
    "# Step 2: Sort the data\n",
    "sorted_ages = np.sort(customer_ages)\n",
    "\n",
    "# Step 3: Calculate the quartiles\n",
    "Q1 = np.percentile(sorted_ages, 25)\n",
    "Q3 = np.percentile(sorted_ages, 75)\n",
    "\n",
    "# Step 4: Calculate the interquartile range\n",
    "IQR = Q3 - Q1\n",
    "\n",
    "# Print the results\n",
    "print(\"First Quartile (Q1):\", Q1)\n",
    "print(\"Third Quartile (Q3):\", Q3)\n",
    "print(\"Interquartile Range (IQR):\", IQR)\n"
   ]
  },
  {
   "cell_type": "code",
   "execution_count": 25,
   "id": "2402318f-1c6d-45b0-a198-725eed68db27",
   "metadata": {},
   "outputs": [
    {
     "name": "stdout",
     "output_type": "stream",
     "text": [
      "There is a significant difference in the median accuracy scores between the algorithms.\n",
      "p-value: 0.007840333026249539\n"
     ]
    }
   ],
   "source": [
    "17. Scenario: A study is conducted to compare the performance of three different machine learning algorithms. The accuracy scores for each algorithm are as follows:\n",
    "    Algorithm A: [0.85, 0.80, 0.82, 0.87, 0.83]\n",
    "    Algorithm B: [0.78, 0.82, 0.84, 0.80, 0.79]\n",
    "    Algorithm C: [0.90, 0.88, 0.89, 0.86, 0.87]\n",
    "    Perform a Kruskal-Wallis test to determine if there is a significant difference in the median accuracy scores between the algorithms.\n",
    "\n",
    "ANS-\n",
    "\n",
    "import numpy as np\n",
    "from scipy.stats import kruskal\n",
    "\n",
    "# Step 1: Prepare the data\n",
    "algorithm_a = np.array([0.85, 0.80, 0.82, 0.87, 0.83])\n",
    "algorithm_b = np.array([0.78, 0.82, 0.84, 0.80, 0.79])\n",
    "algorithm_c = np.array([0.90, 0.88, 0.89, 0.86, 0.87])\n",
    "\n",
    "# Step 2: Perform the Kruskal-Wallis test\n",
    "statistic, p_value = kruskal(algorithm_a, algorithm_b, algorithm_c)\n",
    "\n",
    "# Step 3: Interpret the results\n",
    "alpha = 0.05  # Significance level\n",
    "if p_value < alpha:\n",
    "    print(\"There is a significant difference in the median accuracy scores between the algorithms.\")\n",
    "else:\n",
    "    print(\"There is no significant difference in the median accuracy scores between the algorithms.\")\n",
    "\n",
    "print(\"p-value:\", p_value)\n",
    "\n",
    "\n"
   ]
  },
  {
   "cell_type": "code",
   "execution_count": 27,
   "id": "7ad045d6-886e-4193-913b-74ddb1537cec",
   "metadata": {},
   "outputs": [
    {
     "name": "stdout",
     "output_type": "stream",
     "text": [
      "Regression Line: Sales = -3.5060975609756095 * Price + 136.3719512195122\n"
     ]
    }
   ],
   "source": [
    "18. Scenario: A company wants to analyze the effect of price on sales. The data collected is as follows:\n",
    "    Price (in dollars): [10, 15, 12, 8, 14]\n",
    "    Sales: [100, 80, 90, 110, 95]\n",
    "    Perform a simple linear regression to predict\n",
    "\n",
    " sales based on price.\n",
    "\n",
    "ANS-\n",
    "\n",
    "import numpy as np\n",
    "from sklearn.linear_model import LinearRegression\n",
    "\n",
    "# Step 1: Prepare the data\n",
    "price = np.array([10, 15, 12, 8, 14]).reshape(-1, 1)\n",
    "sales = np.array([100, 80, 90, 110, 95])\n",
    "\n",
    "# Step 2: Fit the linear regression model\n",
    "regression_model = LinearRegression()\n",
    "regression_model.fit(price, sales)\n",
    "\n",
    "# Get the slope and intercept of the regression line\n",
    "slope = regression_model.coef_[0]\n",
    "intercept = regression_model.intercept_\n",
    "\n",
    "# Step 3: Interpret the results\n",
    "print(\"Regression Line: Sales =\", slope, \"* Price +\", intercept)\n"
   ]
  },
  {
   "cell_type": "code",
   "execution_count": 28,
   "id": "2fe07e9a-d9c7-493b-9d83-9b6ce7fc111a",
   "metadata": {},
   "outputs": [
    {
     "name": "stdout",
     "output_type": "stream",
     "text": [
      "Standard Error of the Mean (SEM): 0.30550504633038933\n"
     ]
    }
   ],
   "source": [
    "19. Scenario: A survey is conducted to measure the satisfaction levels of customers with a new product. The data collected is as follows:\n",
    "    [7, 8, 9, 6, 8, 7, 9, 7, 8, 7]\n",
    "    Calculate the standard error of the mean satisfaction score.\n",
    "\n",
    "ANS-\n",
    "\n",
    "import numpy as np\n",
    "\n",
    "# Step 1: Organize the data\n",
    "satisfaction_scores = np.array([7, 8, 9, 6, 8, 7, 9, 7, 8, 7])\n",
    "\n",
    "# Step 2: Calculate the sample mean\n",
    "sample_mean = np.mean(satisfaction_scores)\n",
    "\n",
    "# Step 3: Calculate the sample standard deviation\n",
    "sample_std = np.std(satisfaction_scores, ddof=1)  # ddof=1 for sample standard deviation\n",
    "\n",
    "# Step 4: Calculate the standard error of the mean\n",
    "n = len(satisfaction_scores)\n",
    "SEM = sample_std / np.sqrt(n)\n",
    "\n",
    "# Print the result\n",
    "print(\"Standard Error of the Mean (SEM):\", SEM)\n"
   ]
  },
  {
   "cell_type": "code",
   "execution_count": 29,
   "id": "9c17860b-bf4b-4609-b792-ccef2b841a74",
   "metadata": {},
   "outputs": [
    {
     "name": "stdout",
     "output_type": "stream",
     "text": [
      "Regression Line: Sales = 1.152439024390244 * Advertising Expenditure + 12.20121951219512\n"
     ]
    }
   ],
   "source": [
    "20. Scenario: A company wants to analyze the relationship between advertising expenditure and sales. The data collected is as follows:\n",
    "    Advertising Expenditure (in thousands): [10, 15, 12, 8, 14]\n",
    "    Sales (in thousands): [25, 30, 28, 20, 26]\n",
    "    Perform a multiple regression analysis to predict sales based on advertising expenditure.\n",
    "\n",
    "ANS-\n",
    "\n",
    "import numpy as np\n",
    "from sklearn.linear_model import LinearRegression\n",
    "\n",
    "# Step 1: Prepare the data\n",
    "advertising_expenditure = np.array([10, 15, 12, 8, 14]).reshape(-1, 1)\n",
    "sales = np.array([25, 30, 28, 20, 26])\n",
    "\n",
    "# Step 2: Fit the multiple regression model\n",
    "regression_model = LinearRegression()\n",
    "regression_model.fit(advertising_expenditure, sales)\n",
    "\n",
    "# Get the coefficients of the regression model\n",
    "intercept = regression_model.intercept_\n",
    "slope = regression_model.coef_[0]\n",
    "\n",
    "# Step 3: Interpret the results\n",
    "print(\"Regression Line: Sales =\", slope, \"* Advertising Expenditure +\", intercept)\n"
   ]
  },
  {
   "cell_type": "code",
   "execution_count": null,
   "id": "67a84c79-9bd6-4e22-818a-94edbc3dfe87",
   "metadata": {},
   "outputs": [],
   "source": []
  },
  {
   "cell_type": "code",
   "execution_count": null,
   "id": "b55c7a25-1e00-4845-9a99-f0786ee90bb9",
   "metadata": {},
   "outputs": [],
   "source": []
  }
 ],
 "metadata": {
  "kernelspec": {
   "display_name": "Python 3 (ipykernel)",
   "language": "python",
   "name": "python3"
  },
  "language_info": {
   "codemirror_mode": {
    "name": "ipython",
    "version": 3
   },
   "file_extension": ".py",
   "mimetype": "text/x-python",
   "name": "python",
   "nbconvert_exporter": "python",
   "pygments_lexer": "ipython3",
   "version": "3.10.8"
  }
 },
 "nbformat": 4,
 "nbformat_minor": 5
}
